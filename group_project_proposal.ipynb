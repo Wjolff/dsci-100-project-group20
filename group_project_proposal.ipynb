{
 "cells": [
  {
   "cell_type": "markdown",
   "id": "bb20f930-a78a-40e2-a0fd-3958b22cfe2c",
   "metadata": {
    "scrolled": true
   },
   "source": [
    "The Tennis Tournament of Australian Open\n",
    "-- "
   ]
  },
  {
   "cell_type": "markdown",
   "id": "56123271-3b64-401f-b69d-2d01234ddf00",
   "metadata": {},
   "source": [
    "Introduction\n",
    "\n",
    "- Our group's topic is about the tennis tournaments and players involved. There are many players from different regions with a range of ages competing with each other for the win. The players are ranked based on their capabilities.\n",
    "\n",
    "- In the data analysis, our group wants to predict that **How is the players' age relating to the winning rate of their matches in the Australian Open tournament in 2019**.\n",
    "  \n",
    "- The dataset is about the **Game Results for Top 500 Players from 2017-2019** for many tennis tournaments, which contains various tennis players information with their ranks, ages and etc. And for our prediction, we are only containing the **Australian Open** tournament in **2019** for answering the question. We are including the tournament date, winner's age, loser's age and etc. "
   ]
  },
  {
   "cell_type": "code",
   "execution_count": 30,
   "id": "cf8aa5fc-1bf8-40b0-8c2a-8f459ff3d25d",
   "metadata": {},
   "outputs": [],
   "source": [
    "#Premilinary Data Analysis\n",
    "library(tidyverse)\n",
    "library(repr)\n",
    "library(tidymodels)\n",
    "\n",
    "set.seed(1)\n",
    "atp <- read_csv(\"data/atp2017-2019.csv\") |>\n",
    "    select(tourney_name, tourney_date, winner_age) |>\n",
    "    filter(tourney_date > 2019000) |>\n",
    "    mutate(winner_age = round(winner_age, 2))\n",
    "#atp\n",
    "\n",
    "atp <- atp |>\n",
    "    group_by(winner_age) |>\n",
    "    summarize(wins = n())\n",
    "#atp\n",
    "\n",
    "atp_split <- initial_split(atp, prop = 0.75, strata = wins)\n",
    "atp_train <- (atp_split)\n",
    "atp_test <- (atp_split)\n"
   ]
  },
  {
   "cell_type": "markdown",
   "id": "cb59a8fc-35b9-4d9a-8b29-1bdc29b15dfa",
   "metadata": {},
   "source": [
    "Methods"
   ]
  },
  {
   "cell_type": "code",
   "execution_count": null,
   "id": "fe54edc3-83d6-4a3e-8ef2-cce2d403a9e9",
   "metadata": {},
   "outputs": [],
   "source": [
    "Expected outcomes and significance"
   ]
  }
 ],
 "metadata": {
  "kernelspec": {
   "display_name": "R",
   "language": "R",
   "name": "ir"
  },
  "language_info": {
   "codemirror_mode": "r",
   "file_extension": ".r",
   "mimetype": "text/x-r-source",
   "name": "R",
   "pygments_lexer": "r",
   "version": "4.3.1"
  }
 },
 "nbformat": 4,
 "nbformat_minor": 5
}
