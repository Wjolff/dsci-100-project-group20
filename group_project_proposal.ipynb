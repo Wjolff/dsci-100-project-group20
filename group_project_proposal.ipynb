{
 "cells": [
  {
   "cell_type": "markdown",
   "id": "bb20f930-a78a-40e2-a0fd-3958b22cfe2c",
   "metadata": {
    "scrolled": true
   },
   "source": [
    "Title"
   ]
  },
  {
   "cell_type": "markdown",
   "id": "56123271-3b64-401f-b69d-2d01234ddf00",
   "metadata": {},
   "source": [
    "Introduction"
   ]
  },
  {
   "cell_type": "code",
   "execution_count": 2,
   "id": "cf8aa5fc-1bf8-40b0-8c2a-8f459ff3d25d",
   "metadata": {},
   "outputs": [],
   "source": [
    "#Premilinary Data Analysis\n",
    "library(tidyverse)\n",
    "library(repr)\n",
    "library(tidymodels)"
   ]
  },
  {
   "cell_type": "markdown",
   "id": "cb59a8fc-35b9-4d9a-8b29-1bdc29b15dfa",
   "metadata": {},
   "source": [
    "Methods"
   ]
  },
  {
   "cell_type": "code",
   "execution_count": null,
   "id": "fe54edc3-83d6-4a3e-8ef2-cce2d403a9e9",
   "metadata": {},
   "outputs": [],
   "source": [
    "Expected outcomes and significance"
   ]
  }
 ],
 "metadata": {
  "kernelspec": {
   "display_name": "R",
   "language": "R",
   "name": "ir"
  },
  "language_info": {
   "codemirror_mode": "r",
   "file_extension": ".r",
   "mimetype": "text/x-r-source",
   "name": "R",
   "pygments_lexer": "r",
   "version": "4.3.1"
  }
 },
 "nbformat": 4,
 "nbformat_minor": 5
}
