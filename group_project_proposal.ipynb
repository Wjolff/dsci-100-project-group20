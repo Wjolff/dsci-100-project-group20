{
 "cells": [
  {
   "cell_type": "markdown",
   "id": "bb20f930-a78a-40e2-a0fd-3958b22cfe2c",
   "metadata": {
    "scrolled": true
   },
   "source": [
    "The Tennis Tournament in 2019\n",
    "-- "
   ]
  },
  {
   "cell_type": "markdown",
   "id": "56123271-3b64-401f-b69d-2d01234ddf00",
   "metadata": {},
   "source": [
    "Introduction\n",
    "\n",
    "- Our group's topic is about the tennis tournaments and players involved. There are many players from different regions with a wide range of ages and skills competing to win. These players are ranked based on their capabilities.\n",
    "\n",
    "- In the data analysis, our group wants to predict **How a player's age, aces and serve points relates to the number of matches they won in 2019's tournaments**.\n",
    "  \n",
    "- The dataset is about **Game Results for Top 500 Players from 2017-2019** for many tennis tournaments, which contains various tennis player's information such as rank, age, etc. And for our prediction, we are only containing the **All tournaments** in **2019** for answering the question. We are using the tournament date, winner's average age, name, aces, and serve points. "
   ]
  },
  {
   "cell_type": "code",
   "execution_count": null,
   "id": "41394185-a0cd-4e5a-99d9-84920cb00771",
   "metadata": {},
   "outputs": [],
   "source": [
    "#Premilinary Data Analysis\n",
    "library(tidyverse)\n",
    "library(repr)\n",
    "library(tidymodels)\n",
    "library(cowplot)"
   ]
  },
  {
   "cell_type": "code",
   "execution_count": null,
   "id": "0a06c19c-d1ed-4a1e-94ba-7e8ad426ceaa",
   "metadata": {},
   "outputs": [],
   "source": [
    "atp <- read_csv(\"data/atp2017-2019.csv\") |> #need to load this from web\n",
    "    select(tourney_date, winner_name, winner_age, w_ace, w_svpt) |>\n",
    "    filter(tourney_date > 2019000)"
   ]
  },
  {
   "cell_type": "code",
   "execution_count": null,
   "id": "759ea805-59ea-4f6c-a105-44102f854497",
   "metadata": {},
   "outputs": [],
   "source": [
    "#We each row of the data frame to have the winner's name, and a column for thier aces, serve points, wins\n",
    "# and average ages.\n",
    "\n",
    "#Create a data frame with the total aces and serve points for each player\n",
    "atp_points <- atp |>\n",
    "    group_by(winner_name) |>\n",
    "    summarize(aces = sum(w_ace), serve_points = sum(w_svpt))\n",
    "\n",
    "#Create a vector with the number of wins for each player\n",
    "atp_wins <- atp |>\n",
    "    group_by(winner_name) |>\n",
    "    summarize(wins = n()) |>\n",
    "    pull(wins)\n",
    "\n",
    "#Create a vector with the average age of each player. Since the age variable in this dataset has many\n",
    "#decimal places take the average age of a player over the year.\n",
    "atp_age <- atp |>\n",
    "    group_by(winner_name) |>\n",
    "    summarize(age = mean(winner_age)) |>\n",
    "    mutate(age = round(age, 0)) |>\n",
    "    pull(age)\n",
    "\n",
    "#Combine into one data frame\n",
    "atp_data <-  bind_cols(atp_points, wins = atp_wins) |>\n",
    "    bind_cols(age = atp_age)\n",
    "#atp_data"
   ]
  },
  {
   "cell_type": "code",
   "execution_count": null,
   "id": "362a0950-bd7a-4a73-9c68-5c950bca3cca",
   "metadata": {},
   "outputs": [],
   "source": [
    "#Split the data\n",
    "set.seed(1)\n",
    "atp_split <- initial_split(atp_data, prop = 0.75, strata = wins)\n",
    "atp_training <- training(atp_split)\n",
    "atp_testing <- testing(atp_split)"
   ]
  },
  {
   "cell_type": "code",
   "execution_count": null,
   "id": "36fdb0e8-1dff-4c93-9efb-e469ceb1ae66",
   "metadata": {},
   "outputs": [],
   "source": [
    "#Constructing useful table out of training data (number of observations / missing values for each variable)\n",
    "atp_missing <- count(atp_training, name = \"observations\") |>\n",
    "    mutate(na_vals = sum(is.na(atp_training)))\n",
    "atp_missing"
   ]
  },
  {
   "cell_type": "code",
   "execution_count": null,
   "id": "89a94bb1-33a5-4654-b76b-363cdef009e9",
   "metadata": {},
   "outputs": [],
   "source": [
    "#Age distribution visualization\n",
    "options(repr.plot.height = 7, repr.plot.width = 11)\n",
    "age_hist <- ggplot(atp_training, aes(x = age)) +\n",
    "    geom_histogram(binwidth = 2) +\n",
    "    labs(x = \"Age (years)\", y = \"Count\",\n",
    "         title = \"Distribution of Ages in \\n 2019 Tennis Tournaments\") +\n",
    "    theme(text = element_text(size = 15))\n",
    "win_hist <- ggplot(atp_training, aes(x = wins)) +\n",
    "    geom_histogram(binwidth = 20) +\n",
    "    labs(x = \"Wins\", y = \"Count\",\n",
    "     title = \"Distribution of Matches Won by a \\n Single Player in 2019 Tennis Tournaments\") +\n",
    "    theme(text = element_text(size = 15))\n",
    "plot_grid(age_hist, win_hist, ncol = 2)"
   ]
  },
  {
   "cell_type": "code",
   "execution_count": null,
   "id": "6814e0e1-3086-4d0a-84f7-c692db37e16c",
   "metadata": {},
   "outputs": [],
   "source": [
    "# Define the model specification for linear regression\n",
    "linear_reg_spec <- linear_reg() |>\n",
    "  set_engine(\"lm\") |>\n",
    "  set_mode(\"regression\")"
   ]
  },
  {
   "cell_type": "code",
   "execution_count": null,
   "id": "5be797ba-81f0-4007-8a9a-1faab195141d",
   "metadata": {},
   "outputs": [],
   "source": [
    "# Define the formula for the model\n",
    "formula <- wins ~ age + aces + serve_points"
   ]
  },
  {
   "cell_type": "code",
   "execution_count": null,
   "id": "8c31aed6-5168-4c46-bb3d-6f181699b076",
   "metadata": {},
   "outputs": [],
   "source": [
    "# Fit the linear regression model\n",
    "linear_reg_fit <- linear_reg_spec |>\n",
    "  fit(formula, data = atp_training)"
   ]
  },
  {
   "cell_type": "code",
   "execution_count": null,
   "id": "1c95dc1c-ea8f-43a8-8666-db161bd54ed1",
   "metadata": {},
   "outputs": [],
   "source": [
    "# Predict on the training data\n",
    "predictions <- predict(linear_reg_fit, new_data = atp_training) |>\n",
    "  bind_cols(atp_training) |>\n",
    "  rename(predicted_wins = .pred)"
   ]
  },
  {
   "cell_type": "code",
   "execution_count": null,
   "id": "82b63dc5-b847-4b52-b0c8-e9f473d7298d",
   "metadata": {},
   "outputs": [],
   "source": [
    "#------Note! This is for method and result people------------\n",
    "\n",
    "#Extract out cofficients out (ages, serve points, aces)\n",
    "model_coefficients <- summary(linear_reg_fit$fit)$coefficients\n",
    "model_coefficients\n",
    "# Here's a note for method people:\n",
    "# For age esimate you saw in the small table below:\n",
    "# A negative coefficient would indicate that an increase in age is associated with fewer wins.\n",
    "# Similar works for aces estimate and sever points estimate:\n",
    "# A positive value means that more aces results in an increase in the number of wins.\n",
    "# for serve points, positive means winning more serve points is good for the number of matches won,\n",
    "# they can work in another way around means if it's negative then means more ... (aces, serve points) is actually not good in ...(wins)\n",
    "#you can delete this part after \n",
    "#--------------------------------------------------------------\n",
    "\n",
    "# Actual vs Predicted Wins Visualization\n",
    "wins_comparsion_plot <- ggplot(predictions, aes(x = wins, y = predicted_wins)) +\n",
    "                        geom_point(alpha = 0.5) +\n",
    "                        geom_abline(slope = 1, intercept = 0, col = \"red\", linetype = \"dashed\") +\n",
    "                        labs(x = \"Actual Wins (Num)\", y = \"Predicted Wins (Num)\",\n",
    "                        title = \"Predicted vs Actual Wins based on Aces and Serve Points\") +\n",
    "                        theme_minimal()\n",
    "\n",
    "#------Another Note for the above visualization--------\n",
    "# This visualization *wins_comparsion_plot* is for the predictive wins made by the linear regression model\n",
    "# this is the relation between the actual wins of players and the prediction of the wins\n",
    "# Why is this form? Because i have tried a lot of variants and the aces and serve points did\n",
    "# not actually contribute that much in the win rates, so i've decided to merge them into one\n",
    "# graph of the prediction of the wins. \n",
    "\n",
    "# Each POINT on the graph represents an individual player. \n",
    "# The x is the number of matches the player actually won in 2019,\n",
    "# and the y is the number of matches the regression model predicts\n",
    "# they should have won based on their age, aces, and serve points.\n",
    "\n",
    "# For the RED DASHED LINE: This is the line of perfect prediction. \n",
    "# If every point fell on this line, it would mean that the model's predictions were exactly accurate (which is not)\n",
    "# I used dashed line because it would make the graph easier to look\n",
    "\n",
    "# For Points' Distribution: how the points spread around the red dashed line indicates the model's accuracy. \n",
    "# Points close to the line suggest accurate predictions, while points far from the line means just less accurate.\n",
    "#you can delete this note after\n",
    "#---------Note Ends here---------------------------------"
   ]
  },
  {
   "cell_type": "code",
   "execution_count": null,
   "id": "38190f7f-101b-4669-acde-3cab633f5303",
   "metadata": {},
   "outputs": [],
   "source": [
    "# Analysis to visualize how age affects wins\n",
    "# Calculate average aces and serve points for use in predictions\n",
    "avg_aces <- mean(atp_training$aces, na.rm = TRUE)\n",
    "avg_serve_points <- mean(atp_training$serve_points, na.rm = TRUE)"
   ]
  },
  {
   "cell_type": "code",
   "execution_count": null,
   "id": "a312f946-400c-4880-9a5b-04f38c2c910f",
   "metadata": {},
   "outputs": [],
   "source": [
    "# Generate a new data frame for prediction across a range of ages\n",
    "age_range <- data.frame(age = seq(min(atp_training$age, na.rm = TRUE), \n",
    "                                  max(atp_training$age, na.rm = TRUE), \n",
    "                                  length.out = 100),\n",
    "                        aces = avg_aces,\n",
    "                        serve_points = avg_serve_points)"
   ]
  },
  {
   "cell_type": "code",
   "execution_count": null,
   "id": "cb3cca28-f1a4-4e78-ba18-fc47df31b654",
   "metadata": {},
   "outputs": [],
   "source": [
    "# Predict wins using the model across the age range\n",
    "age_predictions <- predict(linear_reg_fit, new_data = age_range) |>\n",
    "  bind_cols(age_range) |>\n",
    "  rename(predicted_wins = .pred)"
   ]
  },
  {
   "cell_type": "code",
   "execution_count": null,
   "id": "01fe3cfb-cf47-40ee-b0ab-80c1246f1889",
   "metadata": {},
   "outputs": [],
   "source": [
    "# Plot age against predicted wins\n",
    "ages_plot <- ggplot(age_predictions, aes(x = age, y = predicted_wins)) +\n",
    "                              geom_line() +\n",
    "                              scale_x_continuous(breaks = seq(from = floor(min(age_predictions$age)), \n",
    "                                  to = ceiling(max(age_predictions$age)), \n",
    "                                  by = 1)) +\n",
    "                              labs(x = \"Age (years)\", y = \"Predicted Wins (Num)\",\n",
    "                              title = \"Predicted Wins vs. Player Age\") +\n",
    "                              theme_minimal()"
   ]
  },
  {
   "cell_type": "code",
   "execution_count": null,
   "id": "a3dec2eb-38d0-4c77-be28-7d57941533f5",
   "metadata": {},
   "outputs": [],
   "source": [
    "# Add an overall title\n",
    "combined_plot <- plot_grid(wins_comparsion_plot, ages_plot, ncol = 2)\n",
    "overall_title <- ggdraw() + \n",
    "  draw_label(\"A player's Aces, Serve Points (Left) and Ages (Right) relates to the number of matches they won in 2019\", \n",
    "             fontface = 'bold', x = 0.5, hjust = 0.5) +\n",
    "  theme(plot.margin = margin(0, 0, 0, 7))\n",
    "final_plot <- plot_grid(overall_title, combined_plot, ncol = 1, rel_heights = c(0.1, 1))\n",
    "final_plot"
   ]
  },
  {
   "cell_type": "markdown",
   "id": "cb59a8fc-35b9-4d9a-8b29-1bdc29b15dfa",
   "metadata": {},
   "source": [
    "**Methods**\n",
    "\n",
    "To investigate the expected wins across several age groups for major tennis tournaments in 2019, we will employ a regression model. To do this we will split the data into a training and testing set to ensure the model is accurat. We will use K-nearest neighbours regression to construct a model, train it with the training data set, and evaluate its performance using cross-validation.\n",
    "\n",
    "For this analysis, we will focus on the following columns from the data set based in 2019: tourney_date, winner_a, w_ace, w_svpt. Using the predictor variables age, aces, and serve points the regression model will predict the expected number of wins a player will get based on their age, aces and number of serve points.\r\n",
    "\n"
   ]
  },
  {
   "cell_type": "markdown",
   "id": "06f9a8d6-fbf5-4972-a631-b77b90a37e1f",
   "metadata": {},
   "source": [
    "**Expected outcomes and significance**\n",
    "\n",
    "We anticipate our regression model will accurately predict the expected number of wins players will get across a variety of age groups in major tournaments. \r\n",
    "\r\n",
    "Understanding ese valuesewillan provide valuable insigts into the performance of athletewith n regard to their age. This model can aid players, coaches, and analysts in strategizing training regimes, player selection, and scheduling.\r\n",
    "\r\n",
    "Future investigations could explore the impact of additional variables to create more accuracy in determining expected winsrate of an age group suchthe number of double faults or saved break pointsaces with respect to age. Furthermore, extending the set to include other major tournaments in the from several years could a more comprehensive understanding of age-related performance trends in professional tennis.\r\n"
   ]
  }
 ],
 "metadata": {
  "kernelspec": {
   "display_name": "R",
   "language": "R",
   "name": "ir"
  },
  "language_info": {
   "codemirror_mode": "r",
   "file_extension": ".r",
   "mimetype": "text/x-r-source",
   "name": "R",
   "pygments_lexer": "r",
   "version": "4.3.1"
  }
 },
 "nbformat": 4,
 "nbformat_minor": 5
}
